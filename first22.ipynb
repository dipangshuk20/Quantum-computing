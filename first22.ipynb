{
 "cells": [
  {
   "cell_type": "code",
   "execution_count": 2,
   "id": "3893ac4b",
   "metadata": {},
   "outputs": [
    {
     "name": "stdout",
     "output_type": "stream",
     "text": [
      "Requirement already satisfied: qiskit in c:\\users\\dipangshu\\anaconda3\\lib\\site-packages (0.41.1)\n",
      "Requirement already satisfied: qiskit-ibmq-provider==0.20.1 in c:\\users\\dipangshu\\anaconda3\\lib\\site-packages (from qiskit) (0.20.1)\n",
      "Requirement already satisfied: qiskit-terra==0.23.2 in c:\\users\\dipangshu\\anaconda3\\lib\\site-packages (from qiskit) (0.23.2)\n",
      "Requirement already satisfied: qiskit-aer==0.11.2 in c:\\users\\dipangshu\\anaconda3\\lib\\site-packages (from qiskit) (0.11.2)\n",
      "Requirement already satisfied: scipy>=1.0 in c:\\users\\dipangshu\\anaconda3\\lib\\site-packages (from qiskit-aer==0.11.2->qiskit) (1.9.1)\n",
      "Requirement already satisfied: numpy>=1.16.3 in c:\\users\\dipangshu\\anaconda3\\lib\\site-packages (from qiskit-aer==0.11.2->qiskit) (1.21.5)\n",
      "Requirement already satisfied: websocket-client~=1.5.1 in c:\\users\\dipangshu\\anaconda3\\lib\\site-packages (from qiskit-ibmq-provider==0.20.1->qiskit) (1.5.1)\n",
      "Requirement already satisfied: websockets~=10.0 in c:\\users\\dipangshu\\anaconda3\\lib\\site-packages (from qiskit-ibmq-provider==0.20.1->qiskit) (10.4)\n",
      "Requirement already satisfied: requests-ntlm~=1.1.0 in c:\\users\\dipangshu\\anaconda3\\lib\\site-packages (from qiskit-ibmq-provider==0.20.1->qiskit) (1.1.0)\n",
      "Requirement already satisfied: python-dateutil~=2.8.0 in c:\\users\\dipangshu\\anaconda3\\lib\\site-packages (from qiskit-ibmq-provider==0.20.1->qiskit) (2.8.2)\n",
      "Requirement already satisfied: requests~=2.28.0 in c:\\users\\dipangshu\\anaconda3\\lib\\site-packages (from qiskit-ibmq-provider==0.20.1->qiskit) (2.28.2)\n",
      "Requirement already satisfied: urllib3~=1.26.0 in c:\\users\\dipangshu\\anaconda3\\lib\\site-packages (from qiskit-ibmq-provider==0.20.1->qiskit) (1.26.11)\n",
      "Requirement already satisfied: rustworkx>=0.12.0 in c:\\users\\dipangshu\\anaconda3\\lib\\site-packages (from qiskit-terra==0.23.2->qiskit) (0.12.1)\n",
      "Requirement already satisfied: dill>=0.3 in c:\\users\\dipangshu\\anaconda3\\lib\\site-packages (from qiskit-terra==0.23.2->qiskit) (0.3.4)\n",
      "Requirement already satisfied: psutil>=5 in c:\\users\\dipangshu\\anaconda3\\lib\\site-packages (from qiskit-terra==0.23.2->qiskit) (5.9.0)\n",
      "Requirement already satisfied: ply>=3.10 in c:\\users\\dipangshu\\anaconda3\\lib\\site-packages (from qiskit-terra==0.23.2->qiskit) (3.11)\n",
      "Requirement already satisfied: stevedore>=3.0.0 in c:\\users\\dipangshu\\anaconda3\\lib\\site-packages (from qiskit-terra==0.23.2->qiskit) (5.0.0)\n",
      "Requirement already satisfied: sympy>=1.3 in c:\\users\\dipangshu\\anaconda3\\lib\\site-packages (from qiskit-terra==0.23.2->qiskit) (1.10.1)\n",
      "Requirement already satisfied: six>=1.5 in c:\\users\\dipangshu\\anaconda3\\lib\\site-packages (from python-dateutil~=2.8.0->qiskit-ibmq-provider==0.20.1->qiskit) (1.16.0)\n",
      "Requirement already satisfied: certifi>=2017.4.17 in c:\\users\\dipangshu\\anaconda3\\lib\\site-packages (from requests~=2.28.0->qiskit-ibmq-provider==0.20.1->qiskit) (2022.9.14)\n",
      "Requirement already satisfied: idna<4,>=2.5 in c:\\users\\dipangshu\\anaconda3\\lib\\site-packages (from requests~=2.28.0->qiskit-ibmq-provider==0.20.1->qiskit) (3.3)\n",
      "Requirement already satisfied: charset-normalizer<4,>=2 in c:\\users\\dipangshu\\anaconda3\\lib\\site-packages (from requests~=2.28.0->qiskit-ibmq-provider==0.20.1->qiskit) (2.0.4)\n",
      "Requirement already satisfied: cryptography>=1.3 in c:\\users\\dipangshu\\anaconda3\\lib\\site-packages (from requests-ntlm~=1.1.0->qiskit-ibmq-provider==0.20.1->qiskit) (37.0.1)\n",
      "Requirement already satisfied: ntlm-auth>=1.0.2 in c:\\users\\dipangshu\\anaconda3\\lib\\site-packages (from requests-ntlm~=1.1.0->qiskit-ibmq-provider==0.20.1->qiskit) (1.5.0)\n",
      "Requirement already satisfied: pbr!=2.1.0,>=2.0.0 in c:\\users\\dipangshu\\anaconda3\\lib\\site-packages (from stevedore>=3.0.0->qiskit-terra==0.23.2->qiskit) (5.11.1)\n",
      "Requirement already satisfied: mpmath>=0.19 in c:\\users\\dipangshu\\anaconda3\\lib\\site-packages (from sympy>=1.3->qiskit-terra==0.23.2->qiskit) (1.2.1)\n",
      "Requirement already satisfied: cffi>=1.12 in c:\\users\\dipangshu\\anaconda3\\lib\\site-packages (from cryptography>=1.3->requests-ntlm~=1.1.0->qiskit-ibmq-provider==0.20.1->qiskit) (1.15.1)\n",
      "Requirement already satisfied: pycparser in c:\\users\\dipangshu\\anaconda3\\lib\\site-packages (from cffi>=1.12->cryptography>=1.3->requests-ntlm~=1.1.0->qiskit-ibmq-provider==0.20.1->qiskit) (2.21)\n",
      "Requirement already satisfied: pylatexenc in c:\\users\\dipangshu\\anaconda3\\lib\\site-packages (2.10)\n"
     ]
    }
   ],
   "source": [
    "!pip install qiskit\n",
    "!pip install pylatexenc"
   ]
  },
  {
   "cell_type": "code",
   "execution_count": 3,
   "id": "2852f7a5",
   "metadata": {},
   "outputs": [],
   "source": [
    "import numpy as np\n",
    "from qiskit import QuantumCircuit,transpile\n",
    "from qiskit.providers.aer import QasmSimulator\n",
    "from qiskit.visualization import plot_histogram"
   ]
  },
  {
   "cell_type": "code",
   "execution_count": 4,
   "id": "f6083406",
   "metadata": {},
   "outputs": [
    {
     "ename": "ModuleNotFoundError",
     "evalue": "No module named 'MatplotlibDrawer'",
     "output_type": "error",
     "traceback": [
      "\u001b[1;31m---------------------------------------------------------------------------\u001b[0m",
      "\u001b[1;31mModuleNotFoundError\u001b[0m                       Traceback (most recent call last)",
      "\u001b[1;32m~\\AppData\\Local\\Temp\\ipykernel_10528\\789435265.py\u001b[0m in \u001b[0;36m<module>\u001b[1;34m\u001b[0m\n\u001b[1;32m----> 1\u001b[1;33m \u001b[1;32mimport\u001b[0m \u001b[0mMatplotlibDrawer\u001b[0m\u001b[1;33m\u001b[0m\u001b[1;33m\u001b[0m\u001b[0m\n\u001b[0m\u001b[0;32m      2\u001b[0m \u001b[1;32mimport\u001b[0m \u001b[0mpylatexenc\u001b[0m\u001b[1;33m\u001b[0m\u001b[1;33m\u001b[0m\u001b[0m\n",
      "\u001b[1;31mModuleNotFoundError\u001b[0m: No module named 'MatplotlibDrawer'"
     ]
    }
   ],
   "source": [
    "import MatplotlibDrawer\n",
    "import pylatexenc"
   ]
  },
  {
   "cell_type": "code",
   "execution_count": 5,
   "id": "20ef641e",
   "metadata": {},
   "outputs": [
    {
     "name": "stdout",
     "output_type": "stream",
     "text": [
      "Requirement already satisfied: pylatexenc in c:\\users\\dipangshu\\anaconda3\\lib\\site-packages (2.10)\n"
     ]
    }
   ],
   "source": [
    "!pip install pylatexenc"
   ]
  },
  {
   "cell_type": "code",
   "execution_count": 6,
   "id": "1e68bc31",
   "metadata": {},
   "outputs": [],
   "source": [
    "simulator = QasmSimulator()"
   ]
  },
  {
   "cell_type": "code",
   "execution_count": 17,
   "id": "79789c7e",
   "metadata": {},
   "outputs": [],
   "source": [
    "circuit = QuantumCircuit(2,4)"
   ]
  },
  {
   "cell_type": "code",
   "execution_count": 18,
   "id": "69686939",
   "metadata": {},
   "outputs": [
    {
     "data": {
      "text/plain": [
       "QasmSimulator('qasm_simulator')"
      ]
     },
     "execution_count": 18,
     "metadata": {},
     "output_type": "execute_result"
    }
   ],
   "source": [
    "simulator"
   ]
  },
  {
   "cell_type": "code",
   "execution_count": 19,
   "id": "6bb21442",
   "metadata": {},
   "outputs": [
    {
     "data": {
      "text/plain": [
       "<qiskit.circuit.quantumcircuit.QuantumCircuit at 0x1eeffc03df0>"
      ]
     },
     "execution_count": 19,
     "metadata": {},
     "output_type": "execute_result"
    }
   ],
   "source": [
    "circuit"
   ]
  },
  {
   "cell_type": "code",
   "execution_count": 20,
   "id": "49dc8526",
   "metadata": {},
   "outputs": [
    {
     "data": {
      "text/plain": [
       "<qiskit.circuit.instructionset.InstructionSet at 0x1eeffce6b50>"
      ]
     },
     "execution_count": 20,
     "metadata": {},
     "output_type": "execute_result"
    }
   ],
   "source": [
    "circuit.h(0)\n",
    "circuit.cx(0,1)\n",
    "circuit.measure([0,1],[0,1])\n"
   ]
  },
  {
   "cell_type": "code",
   "execution_count": 21,
   "id": "e591e1c0",
   "metadata": {},
   "outputs": [
    {
     "data": {
      "text/html": [
       "<pre style=\"word-wrap: normal;white-space: pre;background: #fff0;line-height: 1.1;font-family: &quot;Courier New&quot;,Courier,monospace\">     ┌───┐     ┌─┐   \n",
       "q_0: ┤ H ├──■──┤M├───\n",
       "     └───┘┌─┴─┐└╥┘┌─┐\n",
       "q_1: ─────┤ X ├─╫─┤M├\n",
       "          └───┘ ║ └╥┘\n",
       "c: 4/═══════════╩══╩═\n",
       "                0  1 </pre>"
      ],
      "text/plain": [
       "     ┌───┐     ┌─┐   \n",
       "q_0: ┤ H ├──■──┤M├───\n",
       "     └───┘┌─┴─┐└╥┘┌─┐\n",
       "q_1: ─────┤ X ├─╫─┤M├\n",
       "          └───┘ ║ └╥┘\n",
       "c: 4/═══════════╩══╩═\n",
       "                0  1 "
      ]
     },
     "execution_count": 21,
     "metadata": {},
     "output_type": "execute_result"
    }
   ],
   "source": [
    "circuit.draw(output='text')"
   ]
  },
  {
   "cell_type": "code",
   "execution_count": 22,
   "id": "1d2a5c02",
   "metadata": {},
   "outputs": [],
   "source": [
    "compiled_circuit = transpile(circuit,simulator)"
   ]
  },
  {
   "cell_type": "code",
   "execution_count": 23,
   "id": "7aba3dc0",
   "metadata": {},
   "outputs": [
    {
     "data": {
      "text/html": [
       "<pre style=\"word-wrap: normal;white-space: pre;background: #fff0;line-height: 1.1;font-family: &quot;Courier New&quot;,Courier,monospace\">     ┌───┐     ┌─┐   \n",
       "q_0: ┤ H ├──■──┤M├───\n",
       "     └───┘┌─┴─┐└╥┘┌─┐\n",
       "q_1: ─────┤ X ├─╫─┤M├\n",
       "          └───┘ ║ └╥┘\n",
       "c: 4/═══════════╩══╩═\n",
       "                0  1 </pre>"
      ],
      "text/plain": [
       "     ┌───┐     ┌─┐   \n",
       "q_0: ┤ H ├──■──┤M├───\n",
       "     └───┘┌─┴─┐└╥┘┌─┐\n",
       "q_1: ─────┤ X ├─╫─┤M├\n",
       "          └───┘ ║ └╥┘\n",
       "c: 4/═══════════╩══╩═\n",
       "                0  1 "
      ]
     },
     "execution_count": 23,
     "metadata": {},
     "output_type": "execute_result"
    }
   ],
   "source": [
    "circuit.draw(output='text')"
   ]
  },
  {
   "cell_type": "code",
   "execution_count": null,
   "id": "6c8b3bf4",
   "metadata": {},
   "outputs": [],
   "source": []
  },
  {
   "cell_type": "code",
   "execution_count": 14,
   "id": "d3de8980",
   "metadata": {},
   "outputs": [],
   "source": [
    "job = simulator.run(compiled_circuit,shots=1000)\n",
    "result = job.result()\n",
    "counts = result.get_counts(compiled_circuit)"
   ]
  },
  {
   "cell_type": "code",
   "execution_count": 15,
   "id": "4dead239",
   "metadata": {},
   "outputs": [
    {
     "name": "stdout",
     "output_type": "stream",
     "text": [
      "\n",
      " Total count for 00 and 11s are : {'000011': 515, '000000': 485}\n"
     ]
    }
   ],
   "source": [
    "print(\"\\n Total count for 00 and 11s are :\",counts)\n"
   ]
  },
  {
   "cell_type": "code",
   "execution_count": 16,
   "id": "7f142385",
   "metadata": {
    "scrolled": true
   },
   "outputs": [
    {
     "data": {
      "image/png": "[encoded data removed]",
      "text/plain": [
       "<Figure size 700x500 with 1 Axes>"
      ]
     },
     "execution_count": 16,
     "metadata": {},
     "output_type": "execute_result"
    }
   ],
   "source": [
    "plot_histogram(counts)"
   ]
  },
  {
   "cell_type": "code",
   "execution_count": 60,
   "id": "ae002582",
   "metadata": {},
   "outputs": [
    {
     "ename": "NameError",
     "evalue": "name 'mpl' is not defined",
     "output_type": "error",
     "traceback": [
      "\u001b[1;31m---------------------------------------------------------------------------\u001b[0m",
      "\u001b[1;31mNameError\u001b[0m                                 Traceback (most recent call last)",
      "\u001b[1;32m~\\AppData\\Local\\Temp\\ipykernel_17404\\2041220889.py\u001b[0m in \u001b[0;36m<module>\u001b[1;34m\u001b[0m\n\u001b[1;32m----> 1\u001b[1;33m \u001b[0mcircuit_drawer\u001b[0m \u001b[1;33m=\u001b[0m \u001b[0mmpl\u001b[0m\u001b[1;33m\u001b[0m\u001b[1;33m\u001b[0m\u001b[0m\n\u001b[0m",
      "\u001b[1;31mNameError\u001b[0m: name 'mpl' is not defined"
     ]
    }
   ],
   "source": [
    "circuit_drawer = mpl"
   ]
  },
  {
   "cell_type": "code",
   "execution_count": null,
   "id": "14da175e",
   "metadata": {},
   "outputs": [],
   "source": []
  },
  {
   "cell_type": "code",
   "execution_count": null,
   "id": "35135e79",
   "metadata": {},
   "outputs": [],
   "source": []
  }
 ],
 "metadata": {
  "kernelspec": {
   "display_name": "Python 3 (ipykernel)",
   "language": "python",
   "name": "python3"
  },
  "language_info": {
   "codemirror_mode": {
    "name": "ipython",
    "version": 3
   },
   "file_extension": ".py",
   "mimetype": "text/x-python",
   "name": "python",
   "nbconvert_exporter": "python",
   "pygments_lexer": "ipython3",
   "version": "3.9.13"
  }
 },
 "nbformat": 4,
 "nbformat_minor": 5
}
